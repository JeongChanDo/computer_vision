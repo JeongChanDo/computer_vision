{
 "cells": [
  {
   "cell_type": "code",
   "execution_count": 8,
   "metadata": {},
   "outputs": [
    {
     "name": "stdout",
     "output_type": "stream",
     "text": [
      "The autotime extension is already loaded. To reload it, use:\n",
      "  %reload_ext autotime\n",
      "time: 0 ns\n"
     ]
    }
   ],
   "source": [
    "import cv2\n",
    "import numpy as np\n",
    "import matplotlib.pyplot as plt\n",
    "import warnings\n",
    "warnings.filterwarnings(\"ignore\")\n",
    "%load_ext autotime"
   ]
  },
  {
   "cell_type": "markdown",
   "metadata": {},
   "source": [
    "## non vectorized solution"
   ]
  },
  {
   "cell_type": "code",
   "execution_count": 9,
   "metadata": {},
   "outputs": [
    {
     "name": "stdout",
     "output_type": "stream",
     "text": [
      "time: 15 ms\n"
     ]
    }
   ],
   "source": [
    "def hough_acc(edge_img, rho_resolution= 1, theta_resolution = 1):\n",
    "    rows, cols = edge_img.shape    \n",
    "    d = np.round(np.sqrt(rows**2 + cols**2))\n",
    "    thetas = np.arange(-90, 90, theta_resolution)\n",
    "    rhos = np.arange(-d, d + 1, rho_resolution)\n",
    "    \n",
    "    #all cos, sin thetas 0 from 180 degree\n",
    "    cos_thetas = np.cos(np.deg2rad(thetas))\n",
    "    sin_thetas = np.sin(np.deg2rad(thetas))\n",
    "    accumulator = np.zeros((len(rhos), len(thetas)))\n",
    "    cnt = 0\n",
    "    for row in range(rows):\n",
    "        for col in range(cols):\n",
    "            # if seletecd point is edge\n",
    "            if edge_img[row, col] != 0:\n",
    "                cnt += 1\n",
    "                # check all possible thetas\n",
    "                for theta_idx in range(len(thetas)):\n",
    "                    # rho = (x_dist * cos(theta)) + (y_dist * sin(theta))\n",
    "                    rho =int(d + (col* cos_thetas[theta_idx])+(row *sin_thetas[theta_idx]))\n",
    "                    accumulator[rho, theta_idx] += 1\n",
    "    return accumulator, rhos, thetas    \n",
    "\n",
    "def find_peak(accumulator, rhos, thetas, threhsold=60):\n",
    "    \n",
    "    lines = []\n",
    "    for y in range(accumulator.shape[0]):\n",
    "        rho = rhos[y]\n",
    "        for x in range(accumulator.shape[1]):\n",
    "            if accumulator[y][x] > threhsold:\n",
    "                theta = np.deg2rad(thetas[x])\n",
    "                lines.append([rho, theta])\n",
    "    \n",
    "    return np.array(lines)\n",
    "\n",
    "def draw_hough_lines(img, lines):\n",
    "    res = img.copy()\n",
    "    for i, line in enumerate(lines):\n",
    "        rho = line[0]\n",
    "        theta = line[1]\n",
    "        # reverse engineer lines from rhos and thetas\n",
    "        a = np.cos(theta)\n",
    "        b = np.sin(theta)\n",
    "        x0 = a*rho\n",
    "        y0 = b*rho\n",
    "        \n",
    "        # these are then scaled so that the lines go off the edges of the image\n",
    "        x1 = int(x0 + 1000*(-b))\n",
    "        y1 = int(y0 + 1000*(a))\n",
    "        x2 = int(x0 - 1000*(-b))\n",
    "        y2 = int(y0 - 1000*(a))\n",
    "        cv2.circle(res, (int(x0), int(y0)),2,(0,0,255),1)\n",
    "        cv2.line(res, (x1, y1), (x2, y2), (0, 255, 0), 1)\n",
    "        plt.imshow(res,cmap=\"gray\")"
   ]
  },
  {
   "cell_type": "code",
   "execution_count": 10,
   "metadata": {},
   "outputs": [
    {
     "data": {
      "text/plain": [
       "<matplotlib.image.AxesImage at 0x112ecb16080>"
      ]
     },
     "execution_count": 10,
     "metadata": {},
     "output_type": "execute_result"
    },
    {
     "data": {
      "image/png": "[encoded data removed]",
      "text/plain": [
       "<Figure size 432x288 with 1 Axes>"
      ]
     },
     "metadata": {
      "needs_background": "light"
     },
     "output_type": "display_data"
    },
    {
     "name": "stdout",
     "output_type": "stream",
     "text": [
      "time: 2.02 s\n"
     ]
    }
   ],
   "source": [
    "img = cv2.imread(\"./res/simple_line2.jpg\",0)\n",
    "blur = cv2.GaussianBlur(img, (3, 3), 1)\n",
    "canny = cv2.Canny(blur, 100, 200)\n",
    "morph = cv2.morphologyEx(canny, cv2.MORPH_CLOSE, np.ones((5,5)))\n",
    "plt.imshow(morph, cmap=\"gray\")"
   ]
  },
  {
   "cell_type": "code",
   "execution_count": 11,
   "metadata": {},
   "outputs": [
    {
     "data": {
      "image/png": "[encoded data removed]",
      "text/plain": [
       "<Figure size 432x288 with 1 Axes>"
      ]
     },
     "metadata": {
      "needs_background": "light"
     },
     "output_type": "display_data"
    },
    {
     "name": "stdout",
     "output_type": "stream",
     "text": [
      "time: 1.89 s\n"
     ]
    }
   ],
   "source": [
    "acc, rhos, thetas = hough_acc(morph)\n",
    "lines = find_peak(acc, rhos,thetas,threhsold=40)\n",
    "draw_hough_lines(img, lines)"
   ]
  },
  {
   "cell_type": "markdown",
   "metadata": {},
   "source": [
    "### hough line in opencv"
   ]
  },
  {
   "cell_type": "code",
   "execution_count": 19,
   "metadata": {},
   "outputs": [
    {
     "data": {
      "text/plain": [
       "<matplotlib.image.AxesImage at 0x112f3a9c9e8>"
      ]
     },
     "execution_count": 19,
     "metadata": {},
     "output_type": "execute_result"
    },
    {
     "data": {
      "image/png": "[encoded data removed]",
      "text/plain": [
       "<Figure size 432x288 with 1 Axes>"
      ]
     },
     "metadata": {
      "needs_background": "light"
     },
     "output_type": "display_data"
    },
    {
     "name": "stdout",
     "output_type": "stream",
     "text": [
      "time: 203 ms\n"
     ]
    }
   ],
   "source": [
    "res = img.copy()\n",
    "lines = cv2.HoughLines(morph,1,np.pi/180,1)\n",
    "for rho,theta in lines[0]:\n",
    "    a = np.cos(theta)\n",
    "    b = np.sin(theta)\n",
    "    x0 = a*rho\n",
    "    y0 = b*rho\n",
    "    x1 = int(x0 + 1000*(-b))\n",
    "    y1 = int(y0 + 1000*(a))\n",
    "    x2 = int(x0 - 1000*(-b))\n",
    "    y2 = int(y0 - 1000*(a))\n",
    "\n",
    "    cv2.line(res,(x1,y1),(x2,y2),(0,0,255),2)\n",
    "plt.imshow(res,cmap=\"gray\")"
   ]
  },
  {
   "cell_type": "code",
   "execution_count": 46,
   "metadata": {},
   "outputs": [
    {
     "name": "stdout",
     "output_type": "stream",
     "text": [
      "time: 15 ms\n"
     ]
    }
   ],
   "source": [
    "def line_detection_vectorized(image, edge_image, num_rhos=180, num_thetas=180, t_count=220):\n",
    "    res = image.copy()\n",
    "    edge_height, edge_width = edge_image.shape[:2]\n",
    "    edge_height_half, edge_width_half = edge_height / 2, edge_width / 2\n",
    "\n",
    "    d = np.sqrt(np.square(edge_height) + np.square(edge_width))\n",
    "    dtheta = 180 / num_thetas\n",
    "    drho = (2 * d) / num_rhos\n",
    "\n",
    "    thetas = np.arange(0, 180, step=dtheta)\n",
    "    rhos = np.arange(-d, d, step=drho)\n",
    "\n",
    "    cos_thetas = np.cos(np.deg2rad(thetas))\n",
    "    sin_thetas = np.sin(np.deg2rad(thetas))\n",
    "\n",
    "    accumulator = np.zeros((len(rhos), len(rhos)))\n",
    "\n",
    "    edge_points = np.argwhere(edge_image != 0)\n",
    "    edge_points = edge_points - np.array([[edge_height_half, edge_width_half]])\n",
    "    #\n",
    "    rho_values = np.matmul(edge_points, np.array([sin_thetas, cos_thetas]))\n",
    "\n",
    "    accumulator, theta_vals, rho_vals = np.histogram2d(\n",
    "      np.tile(thetas, rho_values.shape[0]),\n",
    "      rho_values.ravel(),\n",
    "      bins=[thetas, rhos]\n",
    "    )\n",
    "    accumulator = np.transpose(accumulator)\n",
    "    lines = np.argwhere(accumulator > t_count)\n",
    "\n",
    "    for line in lines:\n",
    "        y, x = line\n",
    "        rho = rhos[y]\n",
    "        theta = thetas[x]\n",
    "        a = np.cos(np.deg2rad(theta))\n",
    "        b = np.sin(np.deg2rad(theta))\n",
    "        x0 = (a * rho) + edge_width_half\n",
    "        y0 = (b * rho) + edge_height_half\n",
    "        x1 = int(x0 + 1000 * (-b))\n",
    "        y1 = int(y0 + 1000 * (a))\n",
    "        x2 = int(x0 - 1000 * (-b))\n",
    "        y2 = int(y0 - 1000 * (a))\n",
    "        res = cv2.line(res, (x1, y1), (x2, y2), (0, 255, 0), 1)\n",
    "\n",
    "    plt.imshow(res,cmap=\"gray\")\n",
    "    return accumulator, rhos, thetas"
   ]
  },
  {
   "cell_type": "code",
   "execution_count": 47,
   "metadata": {},
   "outputs": [
    {
     "data": {
      "image/png": "[encoded data removed]",
      "text/plain": [
       "<Figure size 432x288 with 1 Axes>"
      ]
     },
     "metadata": {
      "needs_background": "light"
     },
     "output_type": "display_data"
    },
    {
     "name": "stdout",
     "output_type": "stream",
     "text": [
      "time: 203 ms\n"
     ]
    }
   ],
   "source": [
    "acc, rhos, thetas = line_detection_vectorized(img,morph,t_count=63)"
   ]
  },
  {
   "cell_type": "code",
   "execution_count": null,
   "metadata": {},
   "outputs": [],
   "source": [
    "def hough_acc(edge_img, rho_resolution= 1, theta_resolution = 1):\n",
    "    edge_height, edge_width = edge_img.shape\n",
    "    edge_height_half, edge_width_half = edge_height/2, edge_width/2\n",
    "    d = np.sqrt(np.square(edge_height) + np.square(edge_width))\n",
    "    \n",
    "    thetas = np.arange(0, 180, theta_resolution)\n",
    "    rhos = np.arange(-d, d, rho_resolution)\n",
    "    cos_thetas = np.cos(np.deg2rad(thetas))\n",
    "    sin_thetas = np.sin(np.deg2rad(thetas))\n",
    "    \n",
    "    accumulator = np.zeros((len(rhos), len(thetas)))\n",
    "    edge_points = np.argwhere(edge_img != 0)\n",
    "    \n",
    "    edge_points = edge_points - np.array([[edge_height_half, edge_width_half]])\n",
    "    rho_values = np.matmul(edge_points, np.array([sin_thetas, cos_thetas]))\n",
    "    \n",
    "     accumulator, theta_vals, rho_vals = np.histogram2d(\n",
    "          np.tile(thetas, rho_values.shape[0]),\n",
    "          rho_values.ravel(),\n",
    "          bins=[thetas, rhos]\n",
    "      )\n",
    "    \n",
    "\n",
    "\n",
    "  accumulator = np.transpose(accumulator)\n",
    "  lines = np.argwhere(accumulator > t_count)\n",
    "  rho_idxs, theta_idxs = lines[:, 0], lines[:, 1]\n",
    "  r, t = rhos[rho_idxs], thetas[theta_idxs]\n",
    "    return accumulator, rhos, thetas    \n"
   ]
  },
  {
   "cell_type": "code",
   "execution_count": 96,
   "metadata": {},
   "outputs": [
    {
     "name": "stdout",
     "output_type": "stream",
     "text": [
      "time: 0 ns\n"
     ]
    }
   ],
   "source": [
    "theta_resolution = 1\n",
    "rho_resolution = 1\n",
    "edge_img = morph.copy()\n",
    "edge_height, edge_width = edge_img.shape\n",
    "edge_height_half, edge_width_half = edge_height/2, edge_width/2\n",
    "d = np.sqrt(np.square(edge_height) + np.square(edge_width))\n",
    "\n",
    "thetas = np.arange(0, 180, theta_resolution)\n",
    "rhos = np.arange(-d, d, rho_resolution)\n",
    "cos_thetas = np.cos(np.deg2rad(thetas))\n",
    "sin_thetas = np.sin(np.deg2rad(thetas))\n",
    "\n",
    "accumulator = np.zeros((len(rhos), len(thetas)))\n",
    "edge_points = np.argwhere(edge_img != 0)\n"
   ]
  },
  {
   "cell_type": "code",
   "execution_count": 97,
   "metadata": {},
   "outputs": [
    {
     "name": "stdout",
     "output_type": "stream",
     "text": [
      "[[ 4 59]\n",
      " [ 4 60]\n",
      " [ 4 61]\n",
      " ...\n",
      " [90 20]\n",
      " [90 21]\n",
      " [90 22]]\n",
      "(283,)\n",
      "141.4213562373095\n",
      "time: 0 ns\n"
     ]
    }
   ],
   "source": [
    "print(edge_points)\n",
    "print(rhos.shape)\n",
    "print(d)"
   ]
  },
  {
   "cell_type": "code",
   "execution_count": 98,
   "metadata": {},
   "outputs": [
    {
     "name": "stdout",
     "output_type": "stream",
     "text": [
      "edge_point[0] : [ 4 59]\n",
      "0\n",
      "255\n",
      "edge_point.shape : (706, 2)\n",
      "edge_img.shape : (100, 100)\n",
      "time: 0 ns\n"
     ]
    }
   ],
   "source": [
    "print(\"edge_point[0] : {}\".format(edge_points[0]))\n",
    "print(edge_img[0][0])\n",
    "print(edge_img[edge_points[0][0], edge_points[0][1]])\n",
    "print(\"edge_point.shape : {}\".format(edge_points.shape))\n",
    "print(\"edge_img.shape : {}\".format(edge_img.shape))"
   ]
  },
  {
   "cell_type": "code",
   "execution_count": 99,
   "metadata": {},
   "outputs": [
    {
     "name": "stdout",
     "output_type": "stream",
     "text": [
      "[[-46.   9.]\n",
      " [-46.  10.]\n",
      " [-46.  11.]]\n",
      "time: 0 ns\n"
     ]
    }
   ],
   "source": [
    "edge_points = edge_points - np.array([[edge_height_half, edge_width_half]])\n",
    "print(edge_points[:3])"
   ]
  },
  {
   "cell_type": "code",
   "execution_count": 102,
   "metadata": {},
   "outputs": [
    {
     "name": "stdout",
     "output_type": "stream",
     "text": [
      "(180,)\n",
      "[0.         0.01745241 0.0348995  0.05233596 0.06975647]\n",
      "(180,)\n",
      "[1.         0.9998477  0.99939083 0.99862953 0.99756405]\n",
      "(706, 180)\n",
      "50.60593587936429\n",
      "time: 0 ns\n"
     ]
    }
   ],
   "source": [
    "rho_values = np.matmul(edge_points, np.array([sin_thetas, cos_thetas]))\n",
    "print(sin_thetas.shape)\n",
    "print(sin_thetas[:5])\n",
    "print(cos_thetas.shape)\n",
    "print(cos_thetas[:5])\n",
    "print(rho_values.shape)\n",
    "print(np.max(rho_values))"
   ]
  },
  {
   "cell_type": "code",
   "execution_count": 103,
   "metadata": {},
   "outputs": [
    {
     "name": "stdout",
     "output_type": "stream",
     "text": [
      "[0 1 2 3]\n",
      "706\n",
      "[  0   1   2 ... 177 178 179]\n",
      "[  1   2   3 ... 177 178 179]\n",
      "706 x 180 = (127080,)\n",
      "time: 16 ms\n"
     ]
    }
   ],
   "source": [
    "print(thetas[:4])\n",
    "print(rho_values.shape[0])\n",
    "t = np.tile(thetas, rho_values.shape[0])\n",
    "print(t)\n",
    "print(t[181:])\n",
    "print(\"706 x 180 = {}\".format(t.shape))"
   ]
  },
  {
   "cell_type": "code",
   "execution_count": 75,
   "metadata": {},
   "outputs": [
    {
     "name": "stdout",
     "output_type": "stream",
     "text": [
      "[ 9.          8.19581856  7.38914059 ... 30.05506522 29.37892302\n",
      " 28.69383172]\n",
      "(127080,)\n",
      "time: 16 ms\n"
     ]
    }
   ],
   "source": [
    "rv = rho_values.ravel()\n",
    "print(rv)\n",
    "print(rv.shape)"
   ]
  },
  {
   "cell_type": "code",
   "execution_count": 89,
   "metadata": {},
   "outputs": [
    {
     "data": {
      "text/plain": [
       "<matplotlib.image.AxesImage at 0x112f5918c50>"
      ]
     },
     "execution_count": 89,
     "metadata": {},
     "output_type": "execute_result"
    },
    {
     "data": {
      "image/png": "[encoded data removed]",
      "text/plain": [
       "<Figure size 504x216 with 1 Axes>"
      ]
     },
     "metadata": {
      "needs_background": "light"
     },
     "output_type": "display_data"
    },
    {
     "name": "stdout",
     "output_type": "stream",
     "text": [
      "time: 157 ms\n"
     ]
    }
   ],
   "source": [
    "xedges = [0, 1, 3, 5]\n",
    "yedges = [0, 2, 3, 4, 6]\n",
    "\n",
    "x = np.random.normal(2, 1, 100)\n",
    "y = np.random.normal(1, 1, 100)\n",
    "H, xedges, yedges = np.histogram2d(x, y, bins=(xedges, yedges))\n",
    "H = H.T  # Let each row list bins with common y range.\n",
    "\n",
    "\n",
    "fig = plt.figure(figsize=(7, 3))\n",
    "plt.imshow(H, interpolation='nearest', origin='low',\n",
    "        extent=[xedges[0], xedges[-1], yedges[0], yedges[-1]])"
   ]
  },
  {
   "cell_type": "code",
   "execution_count": 90,
   "metadata": {},
   "outputs": [
    {
     "name": "stdout",
     "output_type": "stream",
     "text": [
      "time: 0 ns\n"
     ]
    }
   ],
   "source": [
    "accumulator, theta_vals, rho_vals = np.histogram2d(\n",
    "  np.tile(thetas, rho_values.shape[0]),\n",
    "  rho_values.ravel(),\n",
    "  bins=[thetas, rhos]\n",
    ")"
   ]
  },
  {
   "cell_type": "code",
   "execution_count": 93,
   "metadata": {},
   "outputs": [
    {
     "name": "stdout",
     "output_type": "stream",
     "text": [
      "(179, 179)\n",
      "(180,)\n",
      "(180,)\n",
      "time: 0 ns\n"
     ]
    }
   ],
   "source": [
    "print(accumulator.shape)\n",
    "print(theta_vals.shape)\n",
    "print(rho_vals.shape)"
   ]
  },
  {
   "cell_type": "code",
   "execution_count": 119,
   "metadata": {},
   "outputs": [
    {
     "name": "stdout",
     "output_type": "stream",
     "text": [
      "time: 0 ns\n"
     ]
    }
   ],
   "source": [
    "edge_height, edge_width = edge_img.shape\n",
    "edge_height_half, edge_width_half = edge_height/2, edge_width/2\n",
    "d = np.sqrt(np.square(edge_height) + np.square(edge_width))\n",
    "\n",
    "thetas = np.arange(0, 180, theta_resolution)\n",
    "rhos = np.arange(-d, d, rho_resolution)\n",
    "cos_thetas = np.cos(np.deg2rad(thetas))\n",
    "sin_thetas = np.sin(np.deg2rad(thetas))\n",
    "\n",
    "accumulator = np.zeros((len(rhos), len(thetas)))\n",
    "edge_points = np.argwhere(edge_img != 0)\n",
    "\n",
    "edge_points = edge_points - np.array([[edge_height_half, edge_width_half]])\n",
    "rho_values = np.matmul(edge_points, np.array([sin_thetas, cos_thetas]))"
   ]
  },
  {
   "cell_type": "code",
   "execution_count": 120,
   "metadata": {},
   "outputs": [
    {
     "data": {
      "text/plain": [
       "<matplotlib.image.AxesImage at 0x112f5f6dd68>"
      ]
     },
     "execution_count": 120,
     "metadata": {},
     "output_type": "execute_result"
    },
    {
     "data": {
      "image/png": "[encoded data removed]",
      "text/plain": [
       "<Figure size 432x288 with 1 Axes>"
      ]
     },
     "metadata": {
      "needs_background": "light"
     },
     "output_type": "display_data"
    },
    {
     "name": "stdout",
     "output_type": "stream",
     "text": [
      "time: 188 ms\n"
     ]
    }
   ],
   "source": [
    "accumulator, theta_vals, rho_vals = np.histogram2d(\n",
    "  np.tile(thetas, rho_values.shape[0]),\n",
    "  rho_values.ravel(),\n",
    "  bins=[thetas, rhos]\n",
    ")\n",
    "\n",
    "plt.imshow(accumulator.T, interpolation='nearest', origin='low')"
   ]
  },
  {
   "cell_type": "code",
   "execution_count": 124,
   "metadata": {},
   "outputs": [
    {
     "name": "stdout",
     "output_type": "stream",
     "text": [
      "[0 1 2 3 4]\n",
      "[-141.42135624 -140.42135624 -139.42135624 -138.42135624 -137.42135624]\n",
      "(179, 282)\n",
      "time: 0 ns\n"
     ]
    }
   ],
   "source": [
    "print(theta_vals[:5])\n",
    "print(rho_vals[:5])\n",
    "print(accumulator.shape)"
   ]
  },
  {
   "cell_type": "code",
   "execution_count": 129,
   "metadata": {},
   "outputs": [
    {
     "data": {
      "text/plain": [
       "<matplotlib.image.AxesImage at 0x112f60cd2b0>"
      ]
     },
     "execution_count": 129,
     "metadata": {},
     "output_type": "execute_result"
    },
    {
     "data": {
      "image/png": "[encoded data removed]",
      "text/plain": [
       "<Figure size 432x288 with 1 Axes>"
      ]
     },
     "metadata": {
      "needs_background": "light"
     },
     "output_type": "display_data"
    },
    {
     "name": "stdout",
     "output_type": "stream",
     "text": [
      "time: 219 ms\n"
     ]
    }
   ],
   "source": [
    "threshold = 37\n",
    "accumulator = np.transpose(accumulator)\n",
    "lines = np.argwhere(accumulator > threshold)\n",
    "\n",
    "res = img.copy()\n",
    "for line in lines:\n",
    "    y, x = line\n",
    "    rho = rhos[y]\n",
    "    theta = thetas[x]\n",
    "    a = np.cos(np.deg2rad(theta))\n",
    "    b = np.sin(np.deg2rad(theta))\n",
    "    x0 = (a * rho) + edge_width_half\n",
    "    y0 = (b * rho) + edge_height_half\n",
    "    x1 = int(x0 + 1000 * (-b))\n",
    "    y1 = int(y0 + 1000 * (a))\n",
    "    x2 = int(x0 - 1000 * (-b))\n",
    "    y2 = int(y0 - 1000 * (a))\n",
    "    res = cv2.line(res, (x1, y1), (x2, y2), (0, 255, 0), 1)\n",
    "\n",
    "plt.imshow(res,cmap=\"gray\")"
   ]
  },
  {
   "cell_type": "code",
   "execution_count": 132,
   "metadata": {},
   "outputs": [
    {
     "name": "stdout",
     "output_type": "stream",
     "text": [
      "time: 0 ns\n"
     ]
    }
   ],
   "source": [
    "def hough_line(edge_img, rho_resolution= 1, theta_resolution = 1, threshold=10):\n",
    "    edge_height, edge_width = edge_img.shape\n",
    "    edge_height_half, edge_width_half = edge_height/2, edge_width/2\n",
    "    d = np.sqrt(np.square(edge_height) + np.square(edge_width))\n",
    "    \n",
    "    thetas = np.arange(0, 180, theta_resolution)\n",
    "    rhos = np.arange(-d, d, rho_resolution)\n",
    "    cos_thetas = np.cos(np.deg2rad(thetas))\n",
    "    sin_thetas = np.sin(np.deg2rad(thetas))\n",
    "    \n",
    "    accumulator = np.zeros((len(rhos), len(thetas)))\n",
    "    edge_points = np.argwhere(edge_img != 0)\n",
    "    \n",
    "    edge_points = edge_points - np.array([[edge_height_half, edge_width_half]])\n",
    "    rho_values = np.matmul(edge_points, np.array([sin_thetas, cos_thetas]))\n",
    "\n",
    "    accumulator, theta_vals, rho_vals = np.histogram2d(\n",
    "      np.tile(thetas, rho_values.shape[0]),\n",
    "      rho_values.ravel(),\n",
    "      bins=[thetas, rhos]\n",
    "    )\n",
    "    accumulator = np.transpose(accumulator)\n",
    "    lines = np.argwhere(accumulator > threshold)\n",
    "\n",
    "    res = img.copy()\n",
    "    for line in lines:\n",
    "        y, x = line\n",
    "        rho = rhos[y]\n",
    "        theta = thetas[x]\n",
    "        a = np.cos(np.deg2rad(theta))\n",
    "        b = np.sin(np.deg2rad(theta))\n",
    "        x0 = (a * rho) + edge_width_half\n",
    "        y0 = (b * rho) + edge_height_half\n",
    "        x1 = int(x0 + 1000 * (-b))\n",
    "        y1 = int(y0 + 1000 * (a))\n",
    "        x2 = int(x0 - 1000 * (-b))\n",
    "        y2 = int(y0 - 1000 * (a))\n",
    "        res = cv2.line(res, (x1, y1), (x2, y2), (0, 255, 0), 1)\n",
    "\n",
    "    plt.imshow(res,cmap=\"gray\")\n",
    "    return accumulator, rhos, thetas"
   ]
  },
  {
   "cell_type": "code",
   "execution_count": 133,
   "metadata": {},
   "outputs": [
    {
     "data": {
      "image/png": "[encoded data removed]",
      "text/plain": [
       "<Figure size 432x288 with 1 Axes>"
      ]
     },
     "metadata": {
      "needs_background": "light"
     },
     "output_type": "display_data"
    },
    {
     "name": "stdout",
     "output_type": "stream",
     "text": [
      "time: 218 ms\n"
     ]
    }
   ],
   "source": [
    "accumulator, rhos, thetas = hough_line(morph, 1, 1, 37)"
   ]
  },
  {
   "cell_type": "code",
   "execution_count": null,
   "metadata": {},
   "outputs": [],
   "source": []
  }
 ],
 "metadata": {
  "kernelspec": {
   "display_name": "Python 3",
   "language": "python",
   "name": "python3"
  },
  "language_info": {
   "codemirror_mode": {
    "name": "ipython",
    "version": 3
   },
   "file_extension": ".py",
   "mimetype": "text/x-python",
   "name": "python",
   "nbconvert_exporter": "python",
   "pygments_lexer": "ipython3",
   "version": "3.7.1"
  }
 },
 "nbformat": 4,
 "nbformat_minor": 2
}
