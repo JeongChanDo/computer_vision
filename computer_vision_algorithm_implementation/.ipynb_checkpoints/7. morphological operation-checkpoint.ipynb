{
 "cells": [
  {
   "cell_type": "code",
   "execution_count": 1,
   "metadata": {},
   "outputs": [
    {
     "data": {
      "text/plain": [
       "<matplotlib.image.AxesImage at 0x1ea0fb79278>"
      ]
     },
     "execution_count": 1,
     "metadata": {},
     "output_type": "execute_result"
    }
   ],
   "source": [
    "import numpy as np\n",
    "import matplotlib.pyplot as plt\n",
    "from utils import Histogram, Threshold, padding\n",
    "from PIL import Image\n",
    "\n",
    "\n",
    "img = Image.open(\"./res/j.png\").convert(\"L\")\n",
    "img = np.asarray(img)\n",
    "\n",
    "plt.imshow(img, cmap=\"gray\")"
   ]
  },
  {
   "cell_type": "code",
   "execution_count": 2,
   "metadata": {},
   "outputs": [],
   "source": [
    "def erosion(boundary=None, kernel=None):\n",
    "    \"\"\"\n",
    "    erosion operation\n",
    "    - a pixel element is 0 at least under kernel is 0\n",
    "    -> return 0\n",
    "    \"\"\"\n",
    "    boundary = boundary * kernel\n",
    "    if (np.min(boundary) == 0):\n",
    "        return 0\n",
    "    else:\n",
    "        return 255\n",
    "\n",
    "def dilation(boundary=None, kernel=None):\n",
    "    \"\"\"\n",
    "    erosion operation\n",
    "    - a pixel element is not 0 at least under kernel is not 0\n",
    "    -> return 255\n",
    "    \"\"\"\n",
    "    boundary = boundary * kernel\n",
    "    if (np.max(boundary) != 0):\n",
    "        return 255\n",
    "    else:\n",
    "        return 0\n",
    "\n",
    "def openning(img=None, k_size=None):\n",
    "    \"\"\"\n",
    "    openning operation\n",
    "    - erosion followed by dilation\n",
    "    - it removes noise\n",
    "    \"\"\"\n",
    "    erosion_img = morphology(img=img, method=1, k_size=k_size)\n",
    "    opened_img = morphology(img=erosion_img, method=2, k_size=k_size)\n",
    "    return opened_img\n",
    "\n",
    "def closing(img=None, k_size=None):\n",
    "    \"\"\"\n",
    "    closing operation\n",
    "    - dilation follwed by erosion\n",
    "    - it can close small holes inside the objects. \n",
    "    \"\"\"\n",
    "    dilation_img = morphology(img=img, method=2, k_size=k_size)\n",
    "    closed_img = morphology(img=dilation_img, method=1, k_size=k_size)\n",
    "    return closed_img\n",
    "\n",
    "\n",
    "def morphology(img=None, method=None, k_size=None):\n",
    "    \"\"\"\n",
    "    input\n",
    "    img : input image\n",
    "    method : 1(erosion), 2(dilation), 3(openning), 4(closing)\n",
    "    k_size : kernel size\n",
    "    \n",
    "    output\n",
    "    res_img : morphology operation image\n",
    "    \"\"\"\n",
    "    rows, cols = img.shape\n",
    "    pad_img = padding(img, k_size)\n",
    "    kernel = np.ones((k_size,k_size))\n",
    "    res_img = img.copy()\n",
    "    \n",
    "    if method == 1 or method == 2:\n",
    "        for i in range(0, rows):\n",
    "            for j in range(0, cols):\n",
    "                if method == 1: #erosion operation\n",
    "                    res_img[i, j] = erosion(pad_img[i:i+k_size, j:j+k_size], kernel)\n",
    "                elif method == 2: #\n",
    "                    res_img[i, j] = dilation(pad_img[i:i+k_size, j:j+k_size], kernel)\n",
    "    if method == 3:\n",
    "        res_img = openning(img, k_size=k_size)\n",
    "    elif method == 4:\n",
    "        res_img = closing(img, k_size=k_size)\n",
    "\n",
    "    return res_img\n",
    "\n"
   ]
  },
  {
   "cell_type": "code",
   "execution_count": 3,
   "metadata": {},
   "outputs": [
    {
     "data": {
      "text/plain": [
       "<matplotlib.image.AxesImage at 0x1ea0fd4aeb8>"
      ]
     },
     "execution_count": 3,
     "metadata": {},
     "output_type": "execute_result"
    },
    {
     "data": {
      "image/png": "[encoded data removed]",
      "text/plain": [
       "<Figure size 432x288 with 1 Axes>"
      ]
     },
     "metadata": {
      "needs_background": "light"
     },
     "output_type": "display_data"
    }
   ],
   "source": [
    "res = morphology(img, method=1, k_size=5)\n",
    "plt.title(\"erosion operation with k_size = 5\")\n",
    "plt.imshow(res, cmap=\"gray\")"
   ]
  },
  {
   "cell_type": "code",
   "execution_count": 4,
   "metadata": {},
   "outputs": [
    {
     "data": {
      "text/plain": [
       "<matplotlib.image.AxesImage at 0x1ea0fdbf4a8>"
      ]
     },
     "execution_count": 4,
     "metadata": {},
     "output_type": "execute_result"
    },
    {
     "data": {
      "image/png": "[encoded data removed]",
      "text/plain": [
       "<Figure size 432x288 with 1 Axes>"
      ]
     },
     "metadata": {
      "needs_background": "light"
     },
     "output_type": "display_data"
    }
   ],
   "source": [
    "res = morphology(img, method=2, k_size=5)\n",
    "plt.title(\"dilation operation with k_size = 5\")\n",
    "plt.imshow(res, cmap=\"gray\")"
   ]
  },
  {
   "cell_type": "code",
   "execution_count": 5,
   "metadata": {},
   "outputs": [
    {
     "data": {
      "text/plain": [
       "<matplotlib.image.AxesImage at 0x1ea0fe16828>"
      ]
     },
     "execution_count": 5,
     "metadata": {},
     "output_type": "execute_result"
    },
    {
     "data": {
      "image/png": "[encoded data removed]",
      "text/plain": [
       "<Figure size 432x288 with 1 Axes>"
      ]
     },
     "metadata": {
      "needs_background": "light"
     },
     "output_type": "display_data"
    }
   ],
   "source": [
    "noised_j = Image.open(\"./res/noised_j.PNG\").convert(\"L\")\n",
    "noised_j = np.asarray(noised_j)\n",
    "plt.title(\"befor opening operation\")\n",
    "plt.imshow(noised_j, cmap=\"gray\")"
   ]
  },
  {
   "cell_type": "code",
   "execution_count": 6,
   "metadata": {},
   "outputs": [
    {
     "data": {
      "text/plain": [
       "<matplotlib.image.AxesImage at 0x1ea0fe6e0f0>"
      ]
     },
     "execution_count": 6,
     "metadata": {},
     "output_type": "execute_result"
    },
    {
     "data": {
      "image/png": "[encoded data removed]",
      "text/plain": [
       "<Figure size 432x288 with 1 Axes>"
      ]
     },
     "metadata": {
      "needs_background": "light"
     },
     "output_type": "display_data"
    }
   ],
   "source": [
    "res = morphology(noised_j, method=3, k_size=7)\n",
    "plt.title(\"after opening operation with k_size :7\")\n",
    "plt.imshow(res, cmap=\"gray\")"
   ]
  },
  {
   "cell_type": "code",
   "execution_count": 7,
   "metadata": {},
   "outputs": [
    {
     "data": {
      "text/plain": [
       "<matplotlib.image.AxesImage at 0x1ea0fec5c18>"
      ]
     },
     "execution_count": 7,
     "metadata": {},
     "output_type": "execute_result"
    },
    {
     "data": {
      "image/png": "[encoded data removed]",
      "text/plain": [
       "<Figure size 432x288 with 1 Axes>"
      ]
     },
     "metadata": {
      "needs_background": "light"
     },
     "output_type": "display_data"
    }
   ],
   "source": [
    "small_hole = Image.open(\"./res/j_small_hole.PNG\").convert(\"L\")\n",
    "small_hole = np.asarray(small_hole)\n",
    "plt.title(\"before closing operation\")\n",
    "plt.imshow(small_hole, cmap=\"gray\")"
   ]
  },
  {
   "cell_type": "code",
   "execution_count": 8,
   "metadata": {},
   "outputs": [
    {
     "data": {
      "text/plain": [
       "<matplotlib.image.AxesImage at 0x1ea0ff224e0>"
      ]
     },
     "execution_count": 8,
     "metadata": {},
     "output_type": "execute_result"
    },
    {
     "data": {
      "image/png": "[encoded data removed]",
      "text/plain": [
       "<Figure size 432x288 with 1 Axes>"
      ]
     },
     "metadata": {
      "needs_background": "light"
     },
     "output_type": "display_data"
    }
   ],
   "source": [
    "res = morphology(small_hole, method=4, k_size=5)\n",
    "plt.title(\"after closing operation with k_size :7\")\n",
    "plt.imshow(res, cmap=\"gray\")"
   ]
  },
  {
   "cell_type": "code",
   "execution_count": null,
   "metadata": {},
   "outputs": [],
   "source": []
  }
 ],
 "metadata": {
  "kernelspec": {
   "display_name": "Python 3",
   "language": "python",
   "name": "python3"
  },
  "language_info": {
   "codemirror_mode": {
    "name": "ipython",
    "version": 3
   },
   "file_extension": ".py",
   "mimetype": "text/x-python",
   "name": "python",
   "nbconvert_exporter": "python",
   "pygments_lexer": "ipython3",
   "version": "3.7.1"
  }
 },
 "nbformat": 4,
 "nbformat_minor": 2
}
