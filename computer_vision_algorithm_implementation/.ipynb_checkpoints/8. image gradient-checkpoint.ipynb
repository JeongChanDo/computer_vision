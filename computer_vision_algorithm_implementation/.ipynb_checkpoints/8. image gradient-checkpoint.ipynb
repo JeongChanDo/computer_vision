{
 "cells": [
  {
   "cell_type": "code",
   "execution_count": 1,
   "metadata": {},
   "outputs": [
    {
     "data": {
      "text/plain": [
       "<matplotlib.image.AxesImage at 0x2087a58b2e8>"
      ]
     },
     "execution_count": 1,
     "metadata": {},
     "output_type": "execute_result"
    }
   ],
   "source": [
    "import numpy as np\n",
    "import matplotlib.pyplot as plt\n",
    "from utils import Histogram, Threshold, padding, gaussian_filtering\n",
    "from PIL import Image\n",
    "\n",
    "\n",
    "img = Image.open(\"./res/dave.jpg\").convert(\"L\")\n",
    "img = np.asarray(img)\n",
    "\n",
    "plt.imshow(img, cmap=\"gray\")"
   ]
  },
  {
   "cell_type": "code",
   "execution_count": 4,
   "metadata": {},
   "outputs": [],
   "source": [
    "\"\"\"\n",
    "ref\n",
    "- https://en.wikipedia.org/wiki/Edge_detection\n",
    "- http://www.cs.cmu.edu/~16385/s17/Slides/4.0_Image_Gradients_and_Gradient_Filtering.pdf\n",
    "- https://iskim3068.tistory.com/49\n",
    "\"\"\"\n",
    "def sobel_kerenl():\n",
    "    kernel_x = np.array([\n",
    "        [-1, 0, 1],\n",
    "        [-2, 0, 2],\n",
    "        [-1, 0, 1]\n",
    "    ])\n",
    "    kernel_y = np.array([\n",
    "        [1, 2, 1],\n",
    "        [0, 0, 0],\n",
    "        [-1, -2, -1]\n",
    "    ])\n",
    "    return kernel_x, kernel_y\n",
    "\n",
    "def sobel(img, method=None):\n",
    "    \"\"\"\n",
    "    get image gradient using sobel operater\n",
    "    \n",
    "    parameteres\n",
    "    ------------\n",
    "    img : input image applying sobel filter\n",
    "    method : 1(x direction), 2(y dicrection), 3(x + y direction)\n",
    "    \"\"\"\n",
    "    k_size = 3\n",
    "    rows, cols = img.shape\n",
    "    kernel_x, kernel_y = sobel_kerenl()\n",
    "    pad_img = padding(img, k_size=k_size)\n",
    "    res_img = np.zeros((rows,cols))\n",
    "    sx, sy = 0, 0\n",
    "\n",
    "    for i in range(0, rows):\n",
    "        for j in range(0, cols):\n",
    "            boundary = pad_img[i:i+k_size, j:j+k_size]\n",
    "            if method == 1:\n",
    "                sx = np.sum(kernel_x * boundary)\n",
    "            elif method == 2:\n",
    "                sy = np.sum(kernel_y * boundary)\n",
    "            else:\n",
    "                sx = np.sum(kernel_x * boundary)\n",
    "                sy = np.sum(kernel_y * boundary)\n",
    "            res_img[i,j] = np.sqrt(sx**2 + sy**2)\n",
    "    \n",
    "    return res_img"
   ]
  },
  {
   "cell_type": "code",
   "execution_count": null,
   "metadata": {},
   "outputs": [],
   "source": [
    "plt.figure(figsize=(12,12))\n",
    "for i in range(1, 4):\n",
    "    plt.subplot(2, 2, i)\n",
    "    sobel_img = sobel(img, method=i)\n",
    "    plt.imshow(sobel_img,cmap=\"gray\")"
   ]
  },
  {
   "cell_type": "code",
   "execution_count": null,
   "metadata": {},
   "outputs": [],
   "source": [
    "def laplacian_filter():\n",
    "    kernel = np.array([\n",
    "        [0, 1, 0],\n",
    "        [1, -4, 1],\n",
    "        [0, 1, 0]\n",
    "    ])\n",
    "    return kernel\n",
    "\n",
    "\n",
    "def laplacian(img):\n",
    "    \"\"\"\n",
    "    get image gradient using laplacian filter\n",
    "    \n",
    "    parameteres\n",
    "    ------------\n",
    "    img : input image applying laplacian filter\n",
    "    \"\"\"\n",
    "    k_size = 3\n",
    "    rows, cols = img.shape\n",
    "    kernel = laplacian_filter()\n",
    "    pad_img = padding(img_blur, k_size=k_size)\n",
    "    res_img = np.zeros((rows,cols))\n",
    "    sx, sy = 0, 0\n",
    "\n",
    "    for i in range(0, rows):\n",
    "        for j in range(0, cols):\n",
    "            boundary = pad_img[i:i+k_size, j:j+k_size]\n",
    "            res_img[i,j] = np.sum(boundary * kernel)\n",
    "    \n",
    "    return res_img"
   ]
  },
  {
   "cell_type": "code",
   "execution_count": null,
   "metadata": {},
   "outputs": [],
   "source": [
    "laplacian_img = laplacian(img)\n",
    "plt.imshow(laplacian_img,cmap=\"gray\")"
   ]
  },
  {
   "cell_type": "code",
   "execution_count": null,
   "metadata": {},
   "outputs": [],
   "source": []
  }
 ],
 "metadata": {
  "kernelspec": {
   "display_name": "Python 3",
   "language": "python",
   "name": "python3"
  },
  "language_info": {
   "codemirror_mode": {
    "name": "ipython",
    "version": 3
   },
   "file_extension": ".py",
   "mimetype": "text/x-python",
   "name": "python",
   "nbconvert_exporter": "python",
   "pygments_lexer": "ipython3",
   "version": "3.7.1"
  }
 },
 "nbformat": 4,
 "nbformat_minor": 2
}
